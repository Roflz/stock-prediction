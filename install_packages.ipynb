{
  "nbformat": 4,
  "nbformat_minor": 0,
  "metadata": {
    "colab": {
      "name": "Untitled0.ipynb",
      "provenance": [],
      "authorship_tag": "ABX9TyObicsk7YZF+M79SAlJoeq5",
      "include_colab_link": true
    },
    "kernelspec": {
      "name": "python3",
      "display_name": "Python 3"
    },
    "language_info": {
      "name": "python"
    }
  },
  "cells": [
    {
      "cell_type": "markdown",
      "metadata": {
        "id": "view-in-github",
        "colab_type": "text"
      },
      "source": [
        "<a href=\"https://colab.research.google.com/github/Roflz/stock-prediction/blob/main/install_packages.ipynb\" target=\"_parent\"><img src=\"https://colab.research.google.com/assets/colab-badge.svg\" alt=\"Open In Colab\"/></a>"
      ]
    },
    {
      "cell_type": "code",
      "execution_count": null,
      "metadata": {
        "id": "bwmNTCaz7dWA"
      },
      "outputs": [],
      "source": [
        "# Installs/upgrades packages needed for running stock prediction program using Google Colab\n",
        "# After installing/upgrading, Go to Runtime -> Restart runtime to apply changes\n",
        "\n",
        "!pip install --upgrade pandas-datareader"
      ]
    }
  ]
}
